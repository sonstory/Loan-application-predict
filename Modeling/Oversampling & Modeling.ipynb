{
 "cells": [
  {
   "cell_type": "code",
   "execution_count": 1,
   "id": "4e3830c0",
   "metadata": {},
   "outputs": [],
   "source": [
    "import pandas as pd\n",
    "import numpy as np\n",
    "import matplotlib.pyplot as plt\n",
    "import seaborn as sns\n",
    "import warnings\n",
    "warnings.filterwarnings('ignore')"
   ]
  },
  {
   "cell_type": "markdown",
   "id": "df29289d",
   "metadata": {},
   "source": [
    "# 00. Oversampling & Modeling\n",
    "- 전처리를 완료한 데이터를 통한 오버샘플링 및 모델링 수행\n",
    "- 다양한 오버샘플링 기법과 머신러닝 분류 모델들 활용 후 성능 비교\n",
    "- 언더샘플링도 포함해서 비교 자료로 활용"
   ]
  },
  {
   "cell_type": "markdown",
   "id": "403dda1f",
   "metadata": {},
   "source": [
    "# 01. Data Load"
   ]
  },
  {
   "cell_type": "code",
   "execution_count": 2,
   "id": "76f51ab9",
   "metadata": {},
   "outputs": [
    {
     "data": {
      "text/plain": [
       "(8014178, 8)"
      ]
     },
     "execution_count": 2,
     "metadata": {},
     "output_type": "execute_result"
    }
   ],
   "source": [
    "df = pd.read_csv('./data1_scale.csv')\n",
    "df.shape"
   ]
  },
  {
   "cell_type": "code",
   "execution_count": 3,
   "id": "8d33be08",
   "metadata": {},
   "outputs": [
    {
     "data": {
      "text/html": [
       "<div>\n",
       "<style scoped>\n",
       "    .dataframe tbody tr th:only-of-type {\n",
       "        vertical-align: middle;\n",
       "    }\n",
       "\n",
       "    .dataframe tbody tr th {\n",
       "        vertical-align: top;\n",
       "    }\n",
       "\n",
       "    .dataframe thead th {\n",
       "        text-align: right;\n",
       "    }\n",
       "</style>\n",
       "<table border=\"1\" class=\"dataframe\">\n",
       "  <thead>\n",
       "    <tr style=\"text-align: right;\">\n",
       "      <th></th>\n",
       "      <th>credit_score</th>\n",
       "      <th>desired_amount</th>\n",
       "      <th>existing_loan_amt</th>\n",
       "      <th>loan_limit</th>\n",
       "      <th>loan_rate</th>\n",
       "      <th>is_applied</th>\n",
       "      <th>age</th>\n",
       "      <th>mean_exloan</th>\n",
       "    </tr>\n",
       "  </thead>\n",
       "  <tbody>\n",
       "    <tr>\n",
       "      <th>0</th>\n",
       "      <td>0.633333</td>\n",
       "      <td>0.509254</td>\n",
       "      <td>0.010117</td>\n",
       "      <td>0.0003</td>\n",
       "      <td>0.702703</td>\n",
       "      <td>0.0</td>\n",
       "      <td>0.342857</td>\n",
       "      <td>0.013018</td>\n",
       "    </tr>\n",
       "    <tr>\n",
       "      <th>1</th>\n",
       "      <td>0.633333</td>\n",
       "      <td>0.509254</td>\n",
       "      <td>0.010117</td>\n",
       "      <td>0.0001</td>\n",
       "      <td>0.994595</td>\n",
       "      <td>0.0</td>\n",
       "      <td>0.342857</td>\n",
       "      <td>0.013018</td>\n",
       "    </tr>\n",
       "    <tr>\n",
       "      <th>2</th>\n",
       "      <td>0.488889</td>\n",
       "      <td>0.428437</td>\n",
       "      <td>0.008520</td>\n",
       "      <td>0.0030</td>\n",
       "      <td>0.886486</td>\n",
       "      <td>1.0</td>\n",
       "      <td>0.385714</td>\n",
       "      <td>0.016444</td>\n",
       "    </tr>\n",
       "    <tr>\n",
       "      <th>3</th>\n",
       "      <td>0.677778</td>\n",
       "      <td>0.405797</td>\n",
       "      <td>0.003727</td>\n",
       "      <td>0.0009</td>\n",
       "      <td>0.427027</td>\n",
       "      <td>0.0</td>\n",
       "      <td>0.042857</td>\n",
       "      <td>0.007194</td>\n",
       "    </tr>\n",
       "    <tr>\n",
       "      <th>4</th>\n",
       "      <td>0.677778</td>\n",
       "      <td>0.405797</td>\n",
       "      <td>0.003727</td>\n",
       "      <td>0.0010</td>\n",
       "      <td>0.664865</td>\n",
       "      <td>0.0</td>\n",
       "      <td>0.042857</td>\n",
       "      <td>0.007194</td>\n",
       "    </tr>\n",
       "  </tbody>\n",
       "</table>\n",
       "</div>"
      ],
      "text/plain": [
       "   credit_score  desired_amount  existing_loan_amt  loan_limit  loan_rate  \\\n",
       "0      0.633333        0.509254           0.010117      0.0003   0.702703   \n",
       "1      0.633333        0.509254           0.010117      0.0001   0.994595   \n",
       "2      0.488889        0.428437           0.008520      0.0030   0.886486   \n",
       "3      0.677778        0.405797           0.003727      0.0009   0.427027   \n",
       "4      0.677778        0.405797           0.003727      0.0010   0.664865   \n",
       "\n",
       "   is_applied       age  mean_exloan  \n",
       "0         0.0  0.342857     0.013018  \n",
       "1         0.0  0.342857     0.013018  \n",
       "2         1.0  0.385714     0.016444  \n",
       "3         0.0  0.042857     0.007194  \n",
       "4         0.0  0.042857     0.007194  "
      ]
     },
     "execution_count": 3,
     "metadata": {},
     "output_type": "execute_result"
    }
   ],
   "source": [
    "df.head()"
   ]
  },
  {
   "cell_type": "code",
   "execution_count": 4,
   "id": "73a527c7",
   "metadata": {},
   "outputs": [],
   "source": [
    "from sklearn.model_selection import train_test_split\n",
    "\n",
    "# train/test split\n",
    "feature = df.drop(columns='is_applied')\n",
    "target = df['is_applied']\n",
    "X_train,X_test,y_train,y_test = train_test_split(feature,target,test_size=0.2, random_state=2, stratify=target)"
   ]
  },
  {
   "cell_type": "code",
   "execution_count": 67,
   "id": "6df73641",
   "metadata": {},
   "outputs": [],
   "source": [
    "X_test.to_csv(\"./X_test.csv\",index=False)\n",
    "y_test.to_csv(\"./y_test.csv\",index=False)"
   ]
  },
  {
   "cell_type": "markdown",
   "id": "7d4ec9b3",
   "metadata": {},
   "source": [
    "# 02. OverSampling"
   ]
  },
  {
   "cell_type": "code",
   "execution_count": 4,
   "id": "168a1d88",
   "metadata": {},
   "outputs": [],
   "source": [
    "# train/test data load\n",
    "X_train = pd.read_csv('data/X_train.csv')\n",
    "X_test = pd.read_csv('data/X_test.csv')\n",
    "y_train = pd.read_csv('data/y_train.csv')\n",
    "y_test = pd.read_csv('data/y_test.csv')"
   ]
  },
  {
   "cell_type": "markdown",
   "id": "9aa99668",
   "metadata": {},
   "source": [
    "## 02-1.  SMOTE"
   ]
  },
  {
   "cell_type": "code",
   "execution_count": 5,
   "id": "c542791a",
   "metadata": {},
   "outputs": [],
   "source": [
    "from imblearn.over_sampling import SMOTE\n",
    "sm = SMOTE(random_state=0)\n",
    "X_train_smote, y_train_smote = sm.fit_resample(X_train, y_train)"
   ]
  },
  {
   "cell_type": "code",
   "execution_count": 6,
   "id": "26d45259",
   "metadata": {},
   "outputs": [
    {
     "data": {
      "text/plain": [
       "0.0    6064771\n",
       "1.0     346571\n",
       "Name: is_applied, dtype: int64"
      ]
     },
     "execution_count": 6,
     "metadata": {},
     "output_type": "execute_result"
    }
   ],
   "source": [
    "y_train.value_counts()"
   ]
  },
  {
   "cell_type": "code",
   "execution_count": 7,
   "id": "27d18896",
   "metadata": {},
   "outputs": [
    {
     "name": "stdout",
     "output_type": "stream",
     "text": [
      "smote 적용 전 학습용 피처/레이블 데이터 세트:  (6411342, 7) (6411342,)\n",
      "smote 적용 후 학습용 피처/레이블 데이터 세트:  (12129542, 7) (12129542,)\n",
      "\n",
      " smote 적용 전 레이블 값 분포: \n",
      " 0.0    6064771\n",
      "1.0     346571\n",
      "Name: is_applied, dtype: int64\n",
      "\n",
      " smote 적용 후 레이블 값 분포: \n",
      " 0.0    6064771\n",
      "1.0    6064771\n",
      "Name: is_applied, dtype: int64\n"
     ]
    }
   ],
   "source": [
    "print('smote 적용 전 학습용 피처/레이블 데이터 세트: ', X_train.shape, y_train.shape)\n",
    "print('smote 적용 후 학습용 피처/레이블 데이터 세트: ', X_train_smote.shape, y_train_smote.shape)\n",
    "\n",
    "\n",
    "print('\\n smote 적용 전 레이블 값 분포: \\n', y_train.value_counts())\n",
    "print('\\n smote 적용 후 레이블 값 분포: \\n', y_train_smote.value_counts())"
   ]
  },
  {
   "cell_type": "code",
   "execution_count": 61,
   "id": "d5010c72",
   "metadata": {},
   "outputs": [],
   "source": [
    "X_train_smote.to_csv('./X_train_smote', index=False)\n",
    "y_train_smote.to_csv('./y_train_smote', index=False)"
   ]
  },
  {
   "cell_type": "markdown",
   "id": "fdd0ffbe",
   "metadata": {},
   "source": [
    "## 02-2. BorderlineSMOTE"
   ]
  },
  {
   "cell_type": "code",
   "execution_count": 9,
   "id": "e8a144dd",
   "metadata": {},
   "outputs": [],
   "source": [
    "from imblearn.over_sampling import BorderlineSMOTE\n",
    "\n",
    "bsmote = BorderlineSMOTE(random_state = 101, kind = 'borderline-1')\n",
    "X_train_border, y_train_border = bsmote.fit_resample(X_train, y_train)"
   ]
  },
  {
   "cell_type": "code",
   "execution_count": 10,
   "id": "2f0db81c",
   "metadata": {},
   "outputs": [
    {
     "name": "stdout",
     "output_type": "stream",
     "text": [
      "borderline smote 적용 전 학습용 피처/레이블 데이터 세트:  (6411342, 7) (6411342,)\n",
      "borderline smote 적용 후 학습용 피처/레이블 데이터 세트:  (12129542, 7) (12129542,)\n",
      "\n",
      " borderline smote 적용 전 레이블 값 분포: \n",
      " 0.0    6064771\n",
      "1.0     346571\n",
      "Name: is_applied, dtype: int64\n",
      "\n",
      " borderline smote 적용 후 레이블 값 분포: \n",
      " 0.0    6064771\n",
      "1.0    6064771\n",
      "Name: is_applied, dtype: int64\n"
     ]
    }
   ],
   "source": [
    "print('borderline smote 적용 전 학습용 피처/레이블 데이터 세트: ', X_train.shape, y_train.shape)\n",
    "print('borderline smote 적용 후 학습용 피처/레이블 데이터 세트: ', X_train_border.shape, y_train_border.shape)\n",
    "\n",
    "\n",
    "print('\\n borderline smote 적용 전 레이블 값 분포: \\n', y_train.value_counts())\n",
    "print('\\n borderline smote 적용 후 레이블 값 분포: \\n', y_train_border.value_counts())"
   ]
  },
  {
   "cell_type": "code",
   "execution_count": 62,
   "id": "5d106e02",
   "metadata": {},
   "outputs": [],
   "source": [
    "X_train_border.to_csv(\"X_train_border.csv\",index=False)\n",
    "y_train_border.to_csv(\"y_train_border.csv\",index=False)"
   ]
  },
  {
   "cell_type": "markdown",
   "id": "d7d9a39f",
   "metadata": {},
   "source": [
    "## 02-3. ADASYN"
   ]
  },
  {
   "cell_type": "code",
   "execution_count": 11,
   "id": "19590798",
   "metadata": {},
   "outputs": [],
   "source": [
    "from imblearn.over_sampling import ADASYN\n",
    "\n",
    "adasyn = ADASYN(random_state=22)\n",
    "X_train_adasyn, y_train_adasyn = adasyn.fit_resample(X_train, y_train)"
   ]
  },
  {
   "cell_type": "code",
   "execution_count": 12,
   "id": "777e7b43",
   "metadata": {},
   "outputs": [
    {
     "name": "stdout",
     "output_type": "stream",
     "text": [
      "adasyn 적용 전 학습용 피처/레이블 데이터 세트:  (6411342, 7) (6411342,)\n",
      "adasyn 적용 후 학습용 피처/레이블 데이터 세트:  (12171359, 7) (12171359,)\n",
      "\n",
      " adasyn 적용 전 레이블 값 분포: \n",
      " 0.0    6064771\n",
      "1.0     346571\n",
      "Name: is_applied, dtype: int64\n",
      "\n",
      " adasyn 적용 후 레이블 값 분포: \n",
      " 1.0    6106588\n",
      "0.0    6064771\n",
      "Name: is_applied, dtype: int64\n"
     ]
    }
   ],
   "source": [
    "print('adasyn 적용 전 학습용 피처/레이블 데이터 세트: ', X_train.shape, y_train.shape)\n",
    "print('adasyn 적용 후 학습용 피처/레이블 데이터 세트: ', X_train_adasyn.shape, y_train_adasyn.shape)\n",
    "\n",
    "\n",
    "print('\\n adasyn 적용 전 레이블 값 분포: \\n', y_train.value_counts())\n",
    "print('\\n adasyn 적용 후 레이블 값 분포: \\n', y_train_adasyn.value_counts())"
   ]
  },
  {
   "cell_type": "code",
   "execution_count": 63,
   "id": "a5a7d0d8",
   "metadata": {},
   "outputs": [],
   "source": [
    "X_train_adasyn.to_csv(\"X_train_adasyn.csv\",index=False)\n",
    "y_train_adasyn.to_csv(\"y_train_adasyn.csv\",index=False)"
   ]
  },
  {
   "cell_type": "markdown",
   "id": "838b40ab",
   "metadata": {},
   "source": [
    "## 02-4. SMOTETOMEK"
   ]
  },
  {
   "cell_type": "code",
   "execution_count": 13,
   "id": "f2c666d8",
   "metadata": {},
   "outputs": [],
   "source": [
    "from imblearn.combine import SMOTETomek\n",
    "from imblearn.under_sampling import TomekLinks\n",
    "\n",
    "smoteto = SMOTETomek(tomek=TomekLinks(sampling_strategy='majority'))\n",
    "X_train_tomek, y_train_tomek = smoteto.fit_resample(X_train, y_train)"
   ]
  },
  {
   "cell_type": "code",
   "execution_count": 14,
   "id": "88c565e4",
   "metadata": {},
   "outputs": [
    {
     "name": "stdout",
     "output_type": "stream",
     "text": [
      "smotetomek 적용 전 학습용 피처/레이블 데이터 세트:  (6411342, 7) (6411342,)\n",
      "smotetomek 적용 후 학습용 피처/레이블 데이터 세트:  (12102636, 7) (12102636,)\n",
      "\n",
      " smotetomek 적용 전 레이블 값 분포: \n",
      " 0.0    6064771\n",
      "1.0     346571\n",
      "Name: is_applied, dtype: int64\n",
      "\n",
      " smotetomek 적용 후 레이블 값 분포: \n",
      " 1.0    6064771\n",
      "0.0    6037865\n",
      "Name: is_applied, dtype: int64\n"
     ]
    }
   ],
   "source": [
    "print('smotetomek 적용 전 학습용 피처/레이블 데이터 세트: ', X_train.shape, y_train.shape)\n",
    "print('smotetomek 적용 후 학습용 피처/레이블 데이터 세트: ', X_train_tomek.shape, y_train_tomek.shape)\n",
    "\n",
    "\n",
    "print('\\n smotetomek 적용 전 레이블 값 분포: \\n', y_train.value_counts())\n",
    "print('\\n smotetomek 적용 후 레이블 값 분포: \\n', y_train_tomek.value_counts())"
   ]
  },
  {
   "cell_type": "code",
   "execution_count": 65,
   "id": "f43449e9",
   "metadata": {},
   "outputs": [],
   "source": [
    "X_train_tomek.to_csv(\"X_train_tomek.csv\",index=False)\n",
    "y_train_tomek.to_csv(\"y_train_tomek.csv\",index=False)"
   ]
  },
  {
   "cell_type": "markdown",
   "id": "932f243f",
   "metadata": {},
   "source": [
    "## 02-5. SMOTEENN"
   ]
  },
  {
   "cell_type": "code",
   "execution_count": 15,
   "id": "d3d45137",
   "metadata": {},
   "outputs": [],
   "source": [
    "from imblearn.combine import SMOTEENN \n",
    "\n",
    "X_train_enn, y_train_enn = SMOTEENN(random_state=0).fit_resample(X_train, y_train)"
   ]
  },
  {
   "cell_type": "code",
   "execution_count": 16,
   "id": "d271faea",
   "metadata": {},
   "outputs": [
    {
     "name": "stdout",
     "output_type": "stream",
     "text": [
      "smoteenn 적용 전 학습용 피처/레이블 데이터 세트:  (6411342, 7) (6411342,)\n",
      "smoteenn 적용 후 학습용 피처/레이블 데이터 세트:  (10487630, 7) (10487630,)\n",
      "\n",
      " smotetomek 적용 전 레이블 값 분포: \n",
      " 0.0    6064771\n",
      "1.0     346571\n",
      "Name: is_applied, dtype: int64\n",
      "\n",
      " smotetomek 적용 후 레이블 값 분포: \n",
      " 1.0    5404062\n",
      "0.0    5083568\n",
      "Name: is_applied, dtype: int64\n"
     ]
    }
   ],
   "source": [
    "print('smoteenn 적용 전 학습용 피처/레이블 데이터 세트: ', X_train.shape, y_train.shape)\n",
    "print('smoteenn 적용 후 학습용 피처/레이블 데이터 세트: ', X_train_enn.shape, y_train_enn.shape)\n",
    "\n",
    "\n",
    "print('\\n smotetomek 적용 전 레이블 값 분포: \\n', y_train.value_counts())\n",
    "print('\\n smotetomek 적용 후 레이블 값 분포: \\n', y_train_enn.value_counts())"
   ]
  },
  {
   "cell_type": "code",
   "execution_count": 66,
   "id": "e7654e0f",
   "metadata": {},
   "outputs": [],
   "source": [
    "X_train_enn.to_csv(\"X_train_enn.csv\",index=False)\n",
    "y_train_enn.to_csv(\"y_train_enn.csv\",index=False)"
   ]
  },
  {
   "cell_type": "markdown",
   "id": "1850d6b1",
   "metadata": {},
   "source": [
    "# 03. Modeling\n",
    "- LogisticRegression, XGBoostClassifier"
   ]
  },
  {
   "cell_type": "code",
   "execution_count": null,
   "id": "7c4301d8",
   "metadata": {},
   "outputs": [],
   "source": [
    "# train 데이터 로드\n",
    "X_train_smote = pd.read_csv('data/X_train_smote.csv')\n",
    "X_train_border = pd.read_csv('data/X_train_border.csv')\n",
    "X_train_adasyn = pd.read_csv('data/X_train_adasyn.csv')\n",
    "X_train_tomek = pd.read_csv('data/X_train_tomek.csv')\n",
    "X_train_enn = pd.read_csv('data/X_train_enn.csv')\n",
    "\n",
    "y_train_smote = pd.read_csv('data/y_train_smote.csv')\n",
    "y_train_border = pd.read_csv('data/y_train_border.csv')\n",
    "y_train_adasyn = pd.read_csv('data/y_train_adasyn.csv')\n",
    "y_train_tomek = pd.read_csv('data/y_train_tomek.csv')\n",
    "y_train_enn = pd.read_csv('data/y_train_enn.csv')"
   ]
  },
  {
   "cell_type": "markdown",
   "id": "3a75c189",
   "metadata": {},
   "source": [
    "## 03-1. SMOTE + LogisticRegression"
   ]
  },
  {
   "cell_type": "code",
   "execution_count": 19,
   "id": "7df927f1",
   "metadata": {},
   "outputs": [
    {
     "data": {
      "image/png": "[encoded data removed]",
      "text/plain": [
       "<Figure size 432x288 with 2 Axes>"
      ]
     },
     "metadata": {
      "needs_background": "light"
     },
     "output_type": "display_data"
    },
    {
     "name": "stdout",
     "output_type": "stream",
     "text": [
      "\n",
      " 0.6972653471721374\n",
      "\n",
      " 0.21012055723945736\n",
      "\n",
      "               precision    recall  f1-score   support\n",
      "\n",
      "     Class 0       0.98      0.69      0.81   1516193\n",
      "     Class 1       0.12      0.74      0.21     86643\n",
      "\n",
      "    accuracy                           0.70   1602836\n",
      "   macro avg       0.55      0.72      0.51   1602836\n",
      "weighted avg       0.93      0.70      0.78   1602836\n",
      "\n"
     ]
    }
   ],
   "source": [
    "from sklearn.linear_model import LogisticRegression\n",
    "from sklearn.metrics import precision_score, recall_score, f1_score, accuracy_score, classification_report\n",
    "\n",
    "model = LogisticRegression()\n",
    "model.fit(X_train_smote, y_train_smote)\n",
    "y_pred = model.predict(X_test)\n",
    "\n",
    "# confusion matrix\n",
    "cm = (confusion_matrix(y_test, y_pred))\n",
    "\n",
    "# Visualize confusion matrix\n",
    "sns.heatmap(cm, annot = True, fmt = 'd',cmap = 'Reds')\n",
    "plt.title('Confusion matrix')\n",
    "plt.ylabel('True labels')\n",
    "plt.xlabel('Predicted labels')\n",
    "ticks = np.arange(2) #ticks : 클래스의 수 (이진분류라 2개)\n",
    "plt.xticks(ticks, ticks) \n",
    "plt.yticks(ticks, ticks)\n",
    "plt.show()\n",
    "\n",
    "print('\\n', accuracy_score(y_test, y_pred))\n",
    "print('\\n', f1_score(y_test, y_pred))\n",
    "print('\\n', classification_report(y_test, y_pred, target_names=['Class 0', 'Class 1']))"
   ]
  },
  {
   "cell_type": "markdown",
   "id": "630add4b",
   "metadata": {},
   "source": [
    "## 03-2. Border + LogisticRegression"
   ]
  },
  {
   "cell_type": "code",
   "execution_count": 20,
   "id": "7dd2aa15",
   "metadata": {},
   "outputs": [
    {
     "data": {
      "image/png": "[encoded data removed]",
      "text/plain": [
       "<Figure size 432x288 with 2 Axes>"
      ]
     },
     "metadata": {
      "needs_background": "light"
     },
     "output_type": "display_data"
    },
    {
     "name": "stdout",
     "output_type": "stream",
     "text": [
      "\n",
      " 0.7205409661375213\n",
      "\n",
      " 0.21629840102317718\n",
      "\n",
      "               precision    recall  f1-score   support\n",
      "\n",
      "     Class 0       0.98      0.72      0.83   1516193\n",
      "     Class 1       0.13      0.71      0.22     86643\n",
      "\n",
      "    accuracy                           0.72   1602836\n",
      "   macro avg       0.55      0.72      0.52   1602836\n",
      "weighted avg       0.93      0.72      0.80   1602836\n",
      "\n"
     ]
    }
   ],
   "source": [
    "model = LogisticRegression()\n",
    "model.fit(X_train_border, y_train_border)\n",
    "y_pred = model.predict(X_test)\n",
    "\n",
    "# confusion matrix\n",
    "cm = (confusion_matrix(y_pred, y_test))\n",
    "\n",
    "# Visualize confusion matrix\n",
    "sns.heatmap(cm, annot = True, fmt = 'd',cmap = 'Reds')\n",
    "plt.title('Confusion matrix')\n",
    "plt.ylabel('True labels')\n",
    "plt.xlabel('Predicted labels')\n",
    "ticks = np.arange(2) #ticks : 클래스의 수 (이진분류라 2개)\n",
    "plt.xticks(ticks, ticks) \n",
    "plt.yticks(ticks, ticks)\n",
    "plt.show()\n",
    "\n",
    "print('\\n', accuracy_score(y_test, y_pred))\n",
    "print('\\n', f1_score(y_test, y_pred))\n",
    "print('\\n', classification_report(y_test, y_pred, target_names=['Class 0', 'Class 1']))"
   ]
  },
  {
   "cell_type": "markdown",
   "id": "31c9ed4c",
   "metadata": {},
   "source": [
    "## 03-3. ADASYN + LogisticRegression"
   ]
  },
  {
   "cell_type": "code",
   "execution_count": 21,
   "id": "6059ef59",
   "metadata": {},
   "outputs": [
    {
     "data": {
      "image/png": "[encoded data removed]",
      "text/plain": [
       "<Figure size 432x288 with 2 Axes>"
      ]
     },
     "metadata": {
      "needs_background": "light"
     },
     "output_type": "display_data"
    },
    {
     "name": "stdout",
     "output_type": "stream",
     "text": [
      "\n",
      " 0.6826350294103701\n",
      "\n",
      " 0.2061041539210668\n",
      "\n",
      "               precision    recall  f1-score   support\n",
      "\n",
      "     Class 0       0.98      0.68      0.80   1516193\n",
      "     Class 1       0.12      0.76      0.21     86643\n",
      "\n",
      "    accuracy                           0.68   1602836\n",
      "   macro avg       0.55      0.72      0.50   1602836\n",
      "weighted avg       0.93      0.68      0.77   1602836\n",
      "\n"
     ]
    }
   ],
   "source": [
    "model = LogisticRegression()\n",
    "model.fit(X_train_adasyn, y_train_adasyn)\n",
    "y_pred = model.predict(X_test)\n",
    "\n",
    "# confusion matrix\n",
    "cm = (confusion_matrix(y_test, y_pred))\n",
    "\n",
    "# Visualize confusion matrix\n",
    "sns.heatmap(cm, annot = True, fmt = 'd',cmap = 'Reds')\n",
    "plt.title('Confusion matrix')\n",
    "plt.ylabel('True labels')\n",
    "plt.xlabel('Predicted labels')\n",
    "ticks = np.arange(2) #ticks : 클래스의 수 (이진분류라 2개)\n",
    "plt.xticks(ticks, ticks) \n",
    "plt.yticks(ticks, ticks)\n",
    "plt.show()\n",
    "\n",
    "print('\\n', accuracy_score(y_test, y_pred))\n",
    "print('\\n', f1_score(y_test, y_pred))\n",
    "print('\\n', classification_report(y_test, y_pred, target_names=['Class 0', 'Class 1']))"
   ]
  },
  {
   "cell_type": "markdown",
   "id": "c72f546b",
   "metadata": {},
   "source": [
    "## 03-4. TOMEK + LogisticRegression"
   ]
  },
  {
   "cell_type": "code",
   "execution_count": 22,
   "id": "a9cbd02c",
   "metadata": {},
   "outputs": [
    {
     "data": {
      "image/png": "[encoded data removed]",
      "text/plain": [
       "<Figure size 432x288 with 2 Axes>"
      ]
     },
     "metadata": {
      "needs_background": "light"
     },
     "output_type": "display_data"
    },
    {
     "name": "stdout",
     "output_type": "stream",
     "text": [
      "\n",
      " 0.6958672003873135\n",
      "\n",
      " 0.20976697061803443\n",
      "\n",
      "               precision    recall  f1-score   support\n",
      "\n",
      "     Class 0       0.98      0.69      0.81   1516193\n",
      "     Class 1       0.12      0.75      0.21     86643\n",
      "\n",
      "    accuracy                           0.70   1602836\n",
      "   macro avg       0.55      0.72      0.51   1602836\n",
      "weighted avg       0.93      0.70      0.78   1602836\n",
      "\n"
     ]
    }
   ],
   "source": [
    "model = LogisticRegression()\n",
    "model.fit(X_train_tomek, y_train_tomek)\n",
    "y_pred = model.predict(X_test)\n",
    "\n",
    "# confusion matrix\n",
    "cm = (confusion_matrix(y_test, y_pred))\n",
    "\n",
    "# Visualize confusion matrix\n",
    "sns.heatmap(cm, annot = True, fmt = 'd',cmap = 'Reds')\n",
    "plt.title('Confusion matrix')\n",
    "plt.ylabel('True labels')\n",
    "plt.xlabel('Predicted labels')\n",
    "ticks = np.arange(2) #ticks : 클래스의 수 (이진분류라 2개)\n",
    "plt.xticks(ticks, ticks) \n",
    "plt.yticks(ticks, ticks)\n",
    "plt.show()\n",
    "\n",
    "print('\\n', accuracy_score(y_test, y_pred))\n",
    "print('\\n', f1_score(y_test, y_pred))\n",
    "print('\\n', classification_report(y_test, y_pred, target_names=['Class 0', 'Class 1']))"
   ]
  },
  {
   "cell_type": "markdown",
   "id": "4eeebe92",
   "metadata": {},
   "source": [
    "## 03-5. ENN + LogisticRegression"
   ]
  },
  {
   "cell_type": "code",
   "execution_count": 23,
   "id": "2824cbd7",
   "metadata": {},
   "outputs": [
    {
     "data": {
      "image/png": "[encoded data removed]",
      "text/plain": [
       "<Figure size 432x288 with 2 Axes>"
      ]
     },
     "metadata": {
      "needs_background": "light"
     },
     "output_type": "display_data"
    },
    {
     "name": "stdout",
     "output_type": "stream",
     "text": [
      "\n",
      " 0.665284533164965\n",
      "\n",
      " 0.20124645656161413\n",
      "\n",
      "               precision    recall  f1-score   support\n",
      "\n",
      "     Class 0       0.98      0.66      0.79   1516193\n",
      "     Class 1       0.12      0.78      0.20     86643\n",
      "\n",
      "    accuracy                           0.67   1602836\n",
      "   macro avg       0.55      0.72      0.49   1602836\n",
      "weighted avg       0.93      0.67      0.76   1602836\n",
      "\n"
     ]
    }
   ],
   "source": [
    "model = LogisticRegression()\n",
    "model.fit(X_train_enn, y_train_enn)\n",
    "y_pred = model.predict(X_test)\n",
    "\n",
    "# confusion matrix\n",
    "cm = (confusion_matrix(y_test, y_pred))\n",
    "\n",
    "# Visualize confusion matrix\n",
    "sns.heatmap(cm, annot = True, fmt = 'd',cmap = 'Reds')\n",
    "plt.title('Confusion matrix')\n",
    "plt.ylabel('True labels')\n",
    "plt.xlabel('Predicted labels')\n",
    "ticks = np.arange(2) #ticks : 클래스의 수 (이진분류라 2개)\n",
    "plt.xticks(ticks, ticks) \n",
    "plt.yticks(ticks, ticks)\n",
    "plt.show()\n",
    "\n",
    "print('\\n', accuracy_score(y_test, y_pred))\n",
    "print('\\n', f1_score(y_test, y_pred))\n",
    "print('\\n', classification_report(y_test, y_pred, target_names=['Class 0', 'Class 1']))"
   ]
  },
  {
   "cell_type": "markdown",
   "id": "172135dd",
   "metadata": {},
   "source": [
    "## 03-6. SMOTE + XGBoost"
   ]
  },
  {
   "cell_type": "code",
   "execution_count": 35,
   "id": "d5834c08",
   "metadata": {},
   "outputs": [
    {
     "data": {
      "image/png": "[encoded data removed]",
      "text/plain": [
       "<Figure size 432x288 with 2 Axes>"
      ]
     },
     "metadata": {
      "needs_background": "light"
     },
     "output_type": "display_data"
    },
    {
     "name": "stdout",
     "output_type": "stream",
     "text": [
      "\n",
      " 0.8833424005949455\n",
      "\n",
      " 0.2648276512843095\n",
      "\n",
      "               precision    recall  f1-score   support\n",
      "\n",
      "     Class 0       0.96      0.91      0.94   1516193\n",
      "     Class 1       0.20      0.39      0.26     86643\n",
      "\n",
      "    accuracy                           0.88   1602836\n",
      "   macro avg       0.58      0.65      0.60   1602836\n",
      "weighted avg       0.92      0.88      0.90   1602836\n",
      "\n"
     ]
    }
   ],
   "source": [
    "from xgboost import XGBClassifier, plot_importance\n",
    "\n",
    "model = XGBClassifier(n_estimators = 400, learning_rate = 0.1, max_depth = 3)\n",
    "xgb_model = model.fit(X_train_smote, y_train_smote)\n",
    "\n",
    "y_pred = xgb_model.predict(X_test)\n",
    "y_pred_probs = xgb_model.predict_proba(X_test)[:,1]\n",
    "\n",
    "# 특성 중요도 시각화\n",
    "plot_importance(xgb_model, ax=ax)\n",
    "\n",
    "# confusion matrix\n",
    "cm = (confusion_matrix(y_test, y_pred))\n",
    "\n",
    "# Visualize confusion matrix\n",
    "sns.heatmap(cm, annot = True, fmt = 'd',cmap = 'Reds')\n",
    "plt.title('Confusion matrix')\n",
    "plt.ylabel('True labels')\n",
    "plt.xlabel('Predicted labels')\n",
    "ticks = np.arange(2) #ticks : 클래스의 수 (이진분류라 2개)\n",
    "plt.xticks(ticks, ticks) \n",
    "plt.yticks(ticks, ticks)\n",
    "plt.show()\n",
    "\n",
    "print('\\n', accuracy_score(y_test, y_pred))\n",
    "print('\\n', f1_score(y_test, y_pred))\n",
    "print('\\n', classification_report(y_test, y_pred, target_names=['Class 0', 'Class 1']))"
   ]
  },
  {
   "cell_type": "markdown",
   "id": "fb18b39f",
   "metadata": {},
   "source": [
    "## 03-7 Border + XGBoost"
   ]
  },
  {
   "cell_type": "code",
   "execution_count": 36,
   "id": "71289b5f",
   "metadata": {},
   "outputs": [
    {
     "data": {
      "image/png": "[encoded data removed]",
      "text/plain": [
       "<Figure size 432x288 with 2 Axes>"
      ]
     },
     "metadata": {
      "needs_background": "light"
     },
     "output_type": "display_data"
    },
    {
     "name": "stdout",
     "output_type": "stream",
     "text": [
      "\n",
      " 0.8769998926902066\n",
      "\n",
      " 0.2744219084107128\n",
      "\n",
      "               precision    recall  f1-score   support\n",
      "\n",
      "     Class 0       0.97      0.90      0.93   1516193\n",
      "     Class 1       0.20      0.43      0.27     86643\n",
      "\n",
      "    accuracy                           0.88   1602836\n",
      "   macro avg       0.58      0.67      0.60   1602836\n",
      "weighted avg       0.92      0.88      0.90   1602836\n",
      "\n"
     ]
    }
   ],
   "source": [
    "model = XGBClassifier(n_estimators = 400, learning_rate = 0.1, max_depth = 3)\n",
    "xgb_model = model.fit(X_train_border, y_train_border)\n",
    "\n",
    "y_pred = xgb_model.predict(X_test)\n",
    "y_pred_probs = xgb_model.predict_proba(X_test)[:,1]\n",
    "\n",
    "# 특성 중요도 시각화\n",
    "plot_importance(xgb_model, ax=ax)\n",
    "\n",
    "# confusion matrix\n",
    "cm = (confusion_matrix(y_test, y_pred))\n",
    "\n",
    "# Visualize confusion matrix\n",
    "sns.heatmap(cm, annot = True, fmt = 'd',cmap = 'Reds')\n",
    "plt.title('Confusion matrix')\n",
    "plt.ylabel('True labels')\n",
    "plt.xlabel('Predicted labels')\n",
    "ticks = np.arange(2) #ticks : 클래스의 수 (이진분류라 2개)\n",
    "plt.xticks(ticks, ticks) \n",
    "plt.yticks(ticks, ticks)\n",
    "plt.show()\n",
    "\n",
    "print('\\n', accuracy_score(y_test, y_pred))\n",
    "print('\\n', f1_score(y_test, y_pred))\n",
    "print('\\n', classification_report(y_test, y_pred, target_names=['Class 0', 'Class 1']))"
   ]
  },
  {
   "cell_type": "markdown",
   "id": "16df613e",
   "metadata": {},
   "source": [
    "## 03-8. ADASYN + XGBoost"
   ]
  },
  {
   "cell_type": "code",
   "execution_count": 37,
   "id": "1e973495",
   "metadata": {},
   "outputs": [
    {
     "data": {
      "image/png": "[encoded data removed]",
      "text/plain": [
       "<Figure size 432x288 with 2 Axes>"
      ]
     },
     "metadata": {
      "needs_background": "light"
     },
     "output_type": "display_data"
    },
    {
     "name": "stdout",
     "output_type": "stream",
     "text": [
      "\n",
      " 0.8927164101629861\n",
      "\n",
      " 0.2553932224233344\n",
      "\n",
      "               precision    recall  f1-score   support\n",
      "\n",
      "     Class 0       0.96      0.92      0.94   1516193\n",
      "     Class 1       0.20      0.34      0.26     86643\n",
      "\n",
      "    accuracy                           0.89   1602836\n",
      "   macro avg       0.58      0.63      0.60   1602836\n",
      "weighted avg       0.92      0.89      0.91   1602836\n",
      "\n"
     ]
    }
   ],
   "source": [
    "model = XGBClassifier(n_estimators = 400, learning_rate = 0.1, max_depth = 3)\n",
    "xgb_model = model.fit(X_train_adasyn, y_train_adasyn)\n",
    "\n",
    "y_pred = xgb_model.predict(X_test)\n",
    "y_pred_probs = xgb_model.predict_proba(X_test)[:,1]\n",
    "\n",
    "# 특성 중요도 시각화\n",
    "plot_importance(xgb_model, ax=ax)\n",
    "\n",
    "# confusion matrix\n",
    "cm = (confusion_matrix(y_test, y_pred))\n",
    "\n",
    "# Visualize confusion matrix\n",
    "sns.heatmap(cm, annot = True, fmt = 'd',cmap = 'Reds')\n",
    "plt.title('Confusion matrix')\n",
    "plt.ylabel('True labels')\n",
    "plt.xlabel('Predicted labels')\n",
    "ticks = np.arange(2) #ticks : 클래스의 수 (이진분류라 2개)\n",
    "plt.xticks(ticks, ticks) \n",
    "plt.yticks(ticks, ticks)\n",
    "plt.show()\n",
    "\n",
    "print('\\n', accuracy_score(y_test, y_pred))\n",
    "print('\\n', f1_score(y_test, y_pred))\n",
    "print('\\n', classification_report(y_test, y_pred, target_names=['Class 0', 'Class 1']))"
   ]
  },
  {
   "cell_type": "markdown",
   "id": "01d2a3cb",
   "metadata": {},
   "source": [
    "## 03-9. TOMEK + XGBoost"
   ]
  },
  {
   "cell_type": "code",
   "execution_count": 38,
   "id": "a4a75231",
   "metadata": {},
   "outputs": [
    {
     "data": {
      "image/png": "[encoded data removed]",
      "text/plain": [
       "<Figure size 432x288 with 2 Axes>"
      ]
     },
     "metadata": {
      "needs_background": "light"
     },
     "output_type": "display_data"
    },
    {
     "name": "stdout",
     "output_type": "stream",
     "text": [
      "\n",
      " 0.8855416274653177\n",
      "\n",
      " 0.26719978270595\n",
      "\n",
      "               precision    recall  f1-score   support\n",
      "\n",
      "     Class 0       0.96      0.91      0.94   1516193\n",
      "     Class 1       0.20      0.39      0.27     86643\n",
      "\n",
      "    accuracy                           0.89   1602836\n",
      "   macro avg       0.58      0.65      0.60   1602836\n",
      "weighted avg       0.92      0.89      0.90   1602836\n",
      "\n"
     ]
    }
   ],
   "source": [
    "model = XGBClassifier(n_estimators = 400, learning_rate = 0.1, max_depth = 3)\n",
    "xgb_model = model.fit(X_train_tomek, y_train_tomek)\n",
    "\n",
    "y_pred = xgb_model.predict(X_test)\n",
    "y_pred_probs = xgb_model.predict_proba(X_test)[:,1]\n",
    "\n",
    "# 특성 중요도 시각화\n",
    "plot_importance(xgb_model, ax=ax)\n",
    "\n",
    "# confusion matrix\n",
    "cm = (confusion_matrix(y_test, y_pred))\n",
    "\n",
    "# Visualize confusion matrix\n",
    "sns.heatmap(cm, annot = True, fmt = 'd',cmap = 'Reds')\n",
    "plt.title('Confusion matrix')\n",
    "plt.ylabel('True labels')\n",
    "plt.xlabel('Predicted labels')\n",
    "ticks = np.arange(2) #ticks : 클래스의 수 (이진분류라 2개)\n",
    "plt.xticks(ticks, ticks) \n",
    "plt.yticks(ticks, ticks)\n",
    "plt.show()\n",
    "\n",
    "print('\\n', accuracy_score(y_test, y_pred))\n",
    "print('\\n', f1_score(y_test, y_pred))\n",
    "print('\\n', classification_report(y_test, y_pred, target_names=['Class 0', 'Class 1']))"
   ]
  },
  {
   "cell_type": "markdown",
   "id": "af1cc952",
   "metadata": {},
   "source": [
    "## 03-10. ENN + XGBoost"
   ]
  },
  {
   "cell_type": "code",
   "execution_count": 39,
   "id": "ec45e2d1",
   "metadata": {},
   "outputs": [
    {
     "data": {
      "image/png": "[encoded data removed]",
      "text/plain": [
       "<Figure size 432x288 with 2 Axes>"
      ]
     },
     "metadata": {
      "needs_background": "light"
     },
     "output_type": "display_data"
    },
    {
     "name": "stdout",
     "output_type": "stream",
     "text": [
      "\n",
      " 0.8566178947814997\n",
      "\n",
      " 0.27709274381267535\n",
      "\n",
      "               precision    recall  f1-score   support\n",
      "\n",
      "     Class 0       0.97      0.88      0.92   1516193\n",
      "     Class 1       0.19      0.51      0.28     86643\n",
      "\n",
      "    accuracy                           0.86   1602836\n",
      "   macro avg       0.58      0.69      0.60   1602836\n",
      "weighted avg       0.93      0.86      0.89   1602836\n",
      "\n"
     ]
    }
   ],
   "source": [
    "model = XGBClassifier(n_estimators = 400, learning_rate = 0.1, max_depth = 3)\n",
    "xgb_model = model.fit(X_train_enn, y_train_enn)\n",
    "\n",
    "y_pred = xgb_model.predict(X_test)\n",
    "y_pred_probs = xgb_model.predict_proba(X_test)[:,1]\n",
    "\n",
    "# 특성 중요도 시각화\n",
    "plot_importance(xgb_model, ax=ax)\n",
    "\n",
    "# confusion matrix\n",
    "cm = (confusion_matrix(y_test, y_pred))\n",
    "\n",
    "# Visualize confusion matrix\n",
    "sns.heatmap(cm, annot = True, fmt = 'd',cmap = 'Reds')\n",
    "plt.title('Confusion matrix')\n",
    "plt.ylabel('True labels')\n",
    "plt.xlabel('Predicted labels')\n",
    "ticks = np.arange(2) #ticks : 클래스의 수 (이진분류라 2개)\n",
    "plt.xticks(ticks, ticks) \n",
    "plt.yticks(ticks, ticks)\n",
    "plt.show()\n",
    "\n",
    "print('\\n', accuracy_score(y_test, y_pred))\n",
    "print('\\n', f1_score(y_test, y_pred))\n",
    "print('\\n', classification_report(y_test, y_pred, target_names=['Class 0', 'Class 1']))"
   ]
  },
  {
   "cell_type": "markdown",
   "id": "e15c6124",
   "metadata": {},
   "source": [
    "## 03-11. SMOTE + LightGBM"
   ]
  },
  {
   "cell_type": "code",
   "execution_count": 46,
   "id": "0469a001",
   "metadata": {
    "scrolled": false
   },
   "outputs": [
    {
     "data": {
      "image/png": "[encoded data removed]",
      "text/plain": [
       "<Figure size 432x288 with 2 Axes>"
      ]
     },
     "metadata": {
      "needs_background": "light"
     },
     "output_type": "display_data"
    },
    {
     "name": "stdout",
     "output_type": "stream",
     "text": [
      "\n",
      " 0.8964323237062307\n",
      "\n",
      " 0.27193382572235575\n",
      "\n",
      "               precision    recall  f1-score   support\n",
      "\n",
      "     Class 0       0.96      0.93      0.94   1516193\n",
      "     Class 1       0.22      0.36      0.27     86643\n",
      "\n",
      "    accuracy                           0.90   1602836\n",
      "   macro avg       0.59      0.64      0.61   1602836\n",
      "weighted avg       0.92      0.90      0.91   1602836\n",
      "\n"
     ]
    }
   ],
   "source": [
    "from lightgbm import LGBMClassifier\n",
    "\n",
    "model = LGBMClassifier(objective='binary', random_state=5)\n",
    "lgbm_model = model.fit(X_train_smote, y_train_smote)\n",
    "\n",
    "y_pred = lgbm_model.predict(X_test)\n",
    "y_pred_probs = lgbm_model.predict_proba(X_test)[:,1]\n",
    "\n",
    "# confusion matrix\n",
    "cm = (confusion_matrix(y_test, y_pred))\n",
    "\n",
    "# Visualize confusion matrix\n",
    "sns.heatmap(cm, annot = True, fmt = 'd',cmap = 'Reds')\n",
    "plt.title('Confusion matrix')\n",
    "plt.ylabel('True labels')\n",
    "plt.xlabel('Predicted labels')\n",
    "ticks = np.arange(2) #ticks : 클래스의 수 (이진분류라 2개)\n",
    "plt.xticks(ticks, ticks) \n",
    "plt.yticks(ticks, ticks)\n",
    "plt.show()\n",
    "\n",
    "print('\\n', accuracy_score(y_test, y_pred))\n",
    "print('\\n', f1_score(y_test, y_pred))\n",
    "print('\\n', classification_report(y_test, y_pred, target_names=['Class 0', 'Class 1']))"
   ]
  },
  {
   "cell_type": "markdown",
   "id": "1b1c5f2a",
   "metadata": {},
   "source": [
    "## 03-12. Border + LightGBM"
   ]
  },
  {
   "cell_type": "code",
   "execution_count": 47,
   "id": "652f9ed4",
   "metadata": {},
   "outputs": [
    {
     "data": {
      "image/png": "[encoded data removed]",
      "text/plain": [
       "<Figure size 432x288 with 2 Axes>"
      ]
     },
     "metadata": {
      "needs_background": "light"
     },
     "output_type": "display_data"
    },
    {
     "name": "stdout",
     "output_type": "stream",
     "text": [
      "\n",
      " 0.8880309651143349\n",
      "\n",
      " 0.27938968078699056\n",
      "\n",
      "               precision    recall  f1-score   support\n",
      "\n",
      "     Class 0       0.96      0.92      0.94   1516193\n",
      "     Class 1       0.21      0.40      0.28     86643\n",
      "\n",
      "    accuracy                           0.89   1602836\n",
      "   macro avg       0.59      0.66      0.61   1602836\n",
      "weighted avg       0.92      0.89      0.90   1602836\n",
      "\n"
     ]
    }
   ],
   "source": [
    "from lightgbm import LGBMClassifier\n",
    "\n",
    "model = LGBMClassifier(objective='binary', random_state=5)\n",
    "lgbm_model = model.fit(X_train_border, y_train_border)\n",
    "\n",
    "y_pred = lgbm_model.predict(X_test)\n",
    "y_pred_probs = lgbm_model.predict_proba(X_test)[:,1]\n",
    "\n",
    "# confusion matrix\n",
    "cm = (confusion_matrix(y_test, y_pred))\n",
    "\n",
    "# Visualize confusion matrix\n",
    "sns.heatmap(cm, annot = True, fmt = 'd',cmap = 'Reds')\n",
    "plt.title('Confusion matrix')\n",
    "plt.ylabel('True labels')\n",
    "plt.xlabel('Predicted labels')\n",
    "ticks = np.arange(2) #ticks : 클래스의 수 (이진분류라 2개)\n",
    "plt.xticks(ticks, ticks) \n",
    "plt.yticks(ticks, ticks)\n",
    "plt.show()\n",
    "\n",
    "print('\\n', accuracy_score(y_test, y_pred))\n",
    "print('\\n', f1_score(y_test, y_pred))\n",
    "print('\\n', classification_report(y_test, y_pred, target_names=['Class 0', 'Class 1']))"
   ]
  },
  {
   "cell_type": "markdown",
   "id": "937058f5",
   "metadata": {},
   "source": [
    "## 03-13. ADASYN + LightGBM"
   ]
  },
  {
   "cell_type": "code",
   "execution_count": 48,
   "id": "51083596",
   "metadata": {},
   "outputs": [
    {
     "data": {
      "image/png": "[encoded data removed]",
      "text/plain": [
       "<Figure size 432x288 with 2 Axes>"
      ]
     },
     "metadata": {
      "needs_background": "light"
     },
     "output_type": "display_data"
    },
    {
     "name": "stdout",
     "output_type": "stream",
     "text": [
      "\n",
      " 0.898290280477853\n",
      "\n",
      " 0.26055481974708344\n",
      "\n",
      "               precision    recall  f1-score   support\n",
      "\n",
      "     Class 0       0.96      0.93      0.95   1516193\n",
      "     Class 1       0.21      0.33      0.26     86643\n",
      "\n",
      "    accuracy                           0.90   1602836\n",
      "   macro avg       0.59      0.63      0.60   1602836\n",
      "weighted avg       0.92      0.90      0.91   1602836\n",
      "\n"
     ]
    }
   ],
   "source": [
    "from lightgbm import LGBMClassifier\n",
    "\n",
    "model = LGBMClassifier(objective='binary', random_state=5)\n",
    "lgbm_model = model.fit(X_train_adasyn, y_train_adasyn)\n",
    "\n",
    "y_pred = lgbm_model.predict(X_test)\n",
    "y_pred_probs = lgbm_model.predict_proba(X_test)[:,1]\n",
    "\n",
    "# confusion matrix\n",
    "cm = (confusion_matrix(y_test, y_pred))\n",
    "\n",
    "# Visualize confusion matrix\n",
    "sns.heatmap(cm, annot = True, fmt = 'd',cmap = 'Reds')\n",
    "plt.title('Confusion matrix')\n",
    "plt.ylabel('True labels')\n",
    "plt.xlabel('Predicted labels')\n",
    "ticks = np.arange(2) #ticks : 클래스의 수 (이진분류라 2개)\n",
    "plt.xticks(ticks, ticks) \n",
    "plt.yticks(ticks, ticks)\n",
    "plt.show()\n",
    "\n",
    "print('\\n', accuracy_score(y_test, y_pred))\n",
    "print('\\n', f1_score(y_test, y_pred))\n",
    "print('\\n', classification_report(y_test, y_pred, target_names=['Class 0', 'Class 1']))"
   ]
  },
  {
   "cell_type": "markdown",
   "id": "abb69817",
   "metadata": {},
   "source": [
    "## 03-14. TOMEK + LightGBM"
   ]
  },
  {
   "cell_type": "code",
   "execution_count": 49,
   "id": "5d274e98",
   "metadata": {},
   "outputs": [
    {
     "data": {
      "image/png": "[encoded data removed]",
      "text/plain": [
       "<Figure size 432x288 with 2 Axes>"
      ]
     },
     "metadata": {
      "needs_background": "light"
     },
     "output_type": "display_data"
    },
    {
     "name": "stdout",
     "output_type": "stream",
     "text": [
      "\n",
      " 0.8922497373405639\n",
      "\n",
      " 0.2719830711383142\n",
      "\n",
      "               precision    recall  f1-score   support\n",
      "\n",
      "     Class 0       0.96      0.92      0.94   1516193\n",
      "     Class 1       0.21      0.37      0.27     86643\n",
      "\n",
      "    accuracy                           0.89   1602836\n",
      "   macro avg       0.59      0.65      0.61   1602836\n",
      "weighted avg       0.92      0.89      0.91   1602836\n",
      "\n"
     ]
    }
   ],
   "source": [
    "from lightgbm import LGBMClassifier\n",
    "\n",
    "model = LGBMClassifier(objective='binary', random_state=5)\n",
    "lgbm_model = model.fit(X_train_tomek, y_train_tomek)\n",
    "\n",
    "y_pred = lgbm_model.predict(X_test)\n",
    "y_pred_probs = lgbm_model.predict_proba(X_test)[:,1]\n",
    "\n",
    "# confusion matrix\n",
    "cm = (confusion_matrix(y_test, y_pred))\n",
    "\n",
    "# Visualize confusion matrix\n",
    "sns.heatmap(cm, annot = True, fmt = 'd',cmap = 'Reds')\n",
    "plt.title('Confusion matrix')\n",
    "plt.ylabel('True labels')\n",
    "plt.xlabel('Predicted labels')\n",
    "ticks = np.arange(2) #ticks : 클래스의 수 (이진분류라 2개)\n",
    "plt.xticks(ticks, ticks) \n",
    "plt.yticks(ticks, ticks)\n",
    "plt.show()\n",
    "\n",
    "print('\\n', accuracy_score(y_test, y_pred))\n",
    "print('\\n', f1_score(y_test, y_pred))\n",
    "print('\\n', classification_report(y_test, y_pred, target_names=['Class 0', 'Class 1']))"
   ]
  },
  {
   "cell_type": "markdown",
   "id": "5afc0540",
   "metadata": {},
   "source": [
    "## 03-15. ENN + LightGBM"
   ]
  },
  {
   "cell_type": "code",
   "execution_count": 50,
   "id": "5450c5c9",
   "metadata": {
    "scrolled": false
   },
   "outputs": [
    {
     "data": {
      "image/png": "[encoded data removed]",
      "text/plain": [
       "<Figure size 432x288 with 2 Axes>"
      ]
     },
     "metadata": {
      "needs_background": "light"
     },
     "output_type": "display_data"
    },
    {
     "name": "stdout",
     "output_type": "stream",
     "text": [
      "\n",
      " 0.8651047268716201\n",
      "\n",
      " 0.2823238877953736\n",
      "\n",
      "               precision    recall  f1-score   support\n",
      "\n",
      "     Class 0       0.97      0.89      0.93   1516193\n",
      "     Class 1       0.20      0.49      0.28     86643\n",
      "\n",
      "    accuracy                           0.87   1602836\n",
      "   macro avg       0.58      0.69      0.60   1602836\n",
      "weighted avg       0.93      0.87      0.89   1602836\n",
      "\n"
     ]
    }
   ],
   "source": [
    "from lightgbm import LGBMClassifier\n",
    "\n",
    "model = LGBMClassifier(objective='binary', random_state=5)\n",
    "lgbm_model = model.fit(X_train_enn, y_train_enn)\n",
    "\n",
    "y_pred = lgbm_model.predict(X_test)\n",
    "y_pred_probs = lgbm_model.predict_proba(X_test)[:,1]\n",
    "\n",
    "# confusion matrix\n",
    "cm = (confusion_matrix(y_test, y_pred))\n",
    "\n",
    "# Visualize confusion matrix\n",
    "sns.heatmap(cm, annot = True, fmt = 'd',cmap = 'Reds')\n",
    "plt.title('Confusion matrix')\n",
    "plt.ylabel('True labels')\n",
    "plt.xlabel('Predicted labels')\n",
    "ticks = np.arange(2) #ticks : 클래스의 수 (이진분류라 2개)\n",
    "plt.xticks(ticks, ticks) \n",
    "plt.yticks(ticks, ticks)\n",
    "plt.show()\n",
    "\n",
    "print('\\n', accuracy_score(y_test, y_pred))\n",
    "print('\\n', f1_score(y_test, y_pred))\n",
    "print('\\n', classification_report(y_test, y_pred, target_names=['Class 0', 'Class 1']))"
   ]
  },
  {
   "cell_type": "markdown",
   "id": "9cbab1dc",
   "metadata": {},
   "source": [
    "## 03-16. SMOTE + AdaBoost"
   ]
  },
  {
   "cell_type": "code",
   "execution_count": 51,
   "id": "a359bd4e",
   "metadata": {},
   "outputs": [
    {
     "data": {
      "image/png": "[encoded data removed]",
      "text/plain": [
       "<Figure size 432x288 with 2 Axes>"
      ]
     },
     "metadata": {
      "needs_background": "light"
     },
     "output_type": "display_data"
    },
    {
     "name": "stdout",
     "output_type": "stream",
     "text": [
      "\n",
      " 0.7246861188543307\n",
      "\n",
      " 0.22343100799476287\n",
      "\n",
      "               precision    recall  f1-score   support\n",
      "\n",
      "     Class 0       0.98      0.72      0.83   1516193\n",
      "     Class 1       0.13      0.73      0.22     86643\n",
      "\n",
      "    accuracy                           0.72   1602836\n",
      "   macro avg       0.56      0.73      0.53   1602836\n",
      "weighted avg       0.93      0.72      0.80   1602836\n",
      "\n"
     ]
    }
   ],
   "source": [
    "from sklearn.ensemble import AdaBoostClassifier\n",
    "\n",
    "model = AdaBoostClassifier(n_estimators=100, random_state=0)\n",
    "Ada_model = model.fit(X_train_smote, y_train_smote)\n",
    "\n",
    "y_pred = Ada_model.predict(X_test)\n",
    "y_pred_probs = Ada_model.predict_proba(X_test)[:,1]\n",
    "\n",
    "# confusion matrix\n",
    "cm = (confusion_matrix(y_test, y_pred))\n",
    "\n",
    "# Visualize confusion matrix\n",
    "sns.heatmap(cm, annot = True, fmt = 'd',cmap = 'Reds')\n",
    "plt.title('Confusion matrix')\n",
    "plt.ylabel('True labels')\n",
    "plt.xlabel('Predicted labels')\n",
    "ticks = np.arange(2) #ticks : 클래스의 수 (이진분류라 2개)\n",
    "plt.xticks(ticks, ticks) \n",
    "plt.yticks(ticks, ticks)\n",
    "plt.show()\n",
    "\n",
    "print('\\n', accuracy_score(y_test, y_pred))\n",
    "print('\\n', f1_score(y_test, y_pred))\n",
    "print('\\n', classification_report(y_test, y_pred, target_names=['Class 0', 'Class 1']))"
   ]
  },
  {
   "cell_type": "markdown",
   "id": "8617dca5",
   "metadata": {},
   "source": [
    "## 03-17. Border + AdaBoost"
   ]
  },
  {
   "cell_type": "code",
   "execution_count": 52,
   "id": "bb1cdfed",
   "metadata": {},
   "outputs": [
    {
     "data": {
      "image/png": "[encoded data removed]",
      "text/plain": [
       "<Figure size 432x288 with 2 Axes>"
      ]
     },
     "metadata": {
      "needs_background": "light"
     },
     "output_type": "display_data"
    },
    {
     "name": "stdout",
     "output_type": "stream",
     "text": [
      "\n",
      " 0.7468193876354162\n",
      "\n",
      " 0.23071075564587523\n",
      "\n",
      "               precision    recall  f1-score   support\n",
      "\n",
      "     Class 0       0.98      0.75      0.85   1516193\n",
      "     Class 1       0.14      0.70      0.23     86643\n",
      "\n",
      "    accuracy                           0.75   1602836\n",
      "   macro avg       0.56      0.73      0.54   1602836\n",
      "weighted avg       0.93      0.75      0.82   1602836\n",
      "\n"
     ]
    }
   ],
   "source": [
    "model = AdaBoostClassifier(n_estimators=100, random_state=0)\n",
    "Ada_model = model.fit(X_train_border, y_train_border)\n",
    "\n",
    "y_pred = Ada_model.predict(X_test)\n",
    "y_pred_probs = Ada_model.predict_proba(X_test)[:,1]\n",
    "\n",
    "# confusion matrix\n",
    "cm = (confusion_matrix(y_test, y_pred))\n",
    "\n",
    "# Visualize confusion matrix\n",
    "sns.heatmap(cm, annot = True, fmt = 'd',cmap = 'Reds')\n",
    "plt.title('Confusion matrix')\n",
    "plt.ylabel('True labels')\n",
    "plt.xlabel('Predicted labels')\n",
    "ticks = np.arange(2) #ticks : 클래스의 수 (이진분류라 2개)\n",
    "plt.xticks(ticks, ticks) \n",
    "plt.yticks(ticks, ticks)\n",
    "plt.show()\n",
    "\n",
    "print('\\n', accuracy_score(y_test, y_pred))\n",
    "print('\\n', f1_score(y_test, y_pred))\n",
    "print('\\n', classification_report(y_test, y_pred, target_names=['Class 0', 'Class 1']))"
   ]
  },
  {
   "cell_type": "markdown",
   "id": "53d101d9",
   "metadata": {},
   "source": [
    "## 03-18. ADASYN + AdaBoost"
   ]
  },
  {
   "cell_type": "code",
   "execution_count": 53,
   "id": "761ad883",
   "metadata": {},
   "outputs": [
    {
     "data": {
      "image/png": "[encoded data removed]",
      "text/plain": [
       "<Figure size 432x288 with 2 Axes>"
      ]
     },
     "metadata": {
      "needs_background": "light"
     },
     "output_type": "display_data"
    },
    {
     "name": "stdout",
     "output_type": "stream",
     "text": [
      "\n",
      " 0.70906443329199\n",
      "\n",
      " 0.2180843215109728\n",
      "\n",
      "               precision    recall  f1-score   support\n",
      "\n",
      "     Class 0       0.98      0.71      0.82   1516193\n",
      "     Class 1       0.13      0.75      0.22     86643\n",
      "\n",
      "    accuracy                           0.71   1602836\n",
      "   macro avg       0.55      0.73      0.52   1602836\n",
      "weighted avg       0.93      0.71      0.79   1602836\n",
      "\n"
     ]
    }
   ],
   "source": [
    "model = AdaBoostClassifier(n_estimators=100, random_state=0)\n",
    "Ada_model = model.fit(X_train_adasyn, y_train_adasyn)\n",
    "\n",
    "y_pred = Ada_model.predict(X_test)\n",
    "y_pred_probs = Ada_model.predict_proba(X_test)[:,1]\n",
    "\n",
    "# confusion matrix\n",
    "cm = (confusion_matrix(y_test, y_pred))\n",
    "\n",
    "# Visualize confusion matrix\n",
    "sns.heatmap(cm, annot = True, fmt = 'd',cmap = 'Reds')\n",
    "plt.title('Confusion matrix')\n",
    "plt.ylabel('True labels')\n",
    "plt.xlabel('Predicted labels')\n",
    "ticks = np.arange(2) #ticks : 클래스의 수 (이진분류라 2개)\n",
    "plt.xticks(ticks, ticks) \n",
    "plt.yticks(ticks, ticks)\n",
    "plt.show()\n",
    "\n",
    "print('\\n', accuracy_score(y_test, y_pred))\n",
    "print('\\n', f1_score(y_test, y_pred))\n",
    "print('\\n', classification_report(y_test, y_pred, target_names=['Class 0', 'Class 1']))"
   ]
  },
  {
   "cell_type": "markdown",
   "id": "e426c771",
   "metadata": {},
   "source": [
    "## 03-19. Tomek + AdaBoost"
   ]
  },
  {
   "cell_type": "code",
   "execution_count": 54,
   "id": "057545fc",
   "metadata": {},
   "outputs": [
    {
     "data": {
      "image/png": "[encoded data removed]",
      "text/plain": [
       "<Figure size 432x288 with 2 Axes>"
      ]
     },
     "metadata": {
      "needs_background": "light"
     },
     "output_type": "display_data"
    },
    {
     "name": "stdout",
     "output_type": "stream",
     "text": [
      "\n",
      " 0.7257860442365907\n",
      "\n",
      " 0.223824929714762\n",
      "\n",
      "               precision    recall  f1-score   support\n",
      "\n",
      "     Class 0       0.98      0.73      0.83   1516193\n",
      "     Class 1       0.13      0.73      0.22     86643\n",
      "\n",
      "    accuracy                           0.73   1602836\n",
      "   macro avg       0.56      0.73      0.53   1602836\n",
      "weighted avg       0.93      0.73      0.80   1602836\n",
      "\n"
     ]
    }
   ],
   "source": [
    "model = AdaBoostClassifier(n_estimators=100, random_state=0)\n",
    "Ada_model = model.fit(X_train_tomek, y_train_tomek)\n",
    "\n",
    "y_pred = Ada_model.predict(X_test)\n",
    "y_pred_probs = Ada_model.predict_proba(X_test)[:,1]\n",
    "\n",
    "# confusion matrix\n",
    "cm = (confusion_matrix(y_test, y_pred))\n",
    "\n",
    "# Visualize confusion matrix\n",
    "sns.heatmap(cm, annot = True, fmt = 'd',cmap = 'Reds')\n",
    "plt.title('Confusion matrix')\n",
    "plt.ylabel('True labels')\n",
    "plt.xlabel('Predicted labels')\n",
    "ticks = np.arange(2) #ticks : 클래스의 수 (이진분류라 2개)\n",
    "plt.xticks(ticks, ticks) \n",
    "plt.yticks(ticks, ticks)\n",
    "plt.show()\n",
    "\n",
    "print('\\n', accuracy_score(y_test, y_pred))\n",
    "print('\\n', f1_score(y_test, y_pred))\n",
    "print('\\n', classification_report(y_test, y_pred, target_names=['Class 0', 'Class 1']))"
   ]
  },
  {
   "cell_type": "markdown",
   "id": "f6d92ea0",
   "metadata": {},
   "source": [
    "## 03-20. ENN + AdaBoost"
   ]
  },
  {
   "cell_type": "code",
   "execution_count": 55,
   "id": "523f7743",
   "metadata": {},
   "outputs": [
    {
     "data": {
      "image/png": "[encoded data removed]",
      "text/plain": [
       "<Figure size 432x288 with 2 Axes>"
      ]
     },
     "metadata": {
      "needs_background": "light"
     },
     "output_type": "display_data"
    },
    {
     "name": "stdout",
     "output_type": "stream",
     "text": [
      "\n",
      " 0.6979453917930468\n",
      "\n",
      " 0.21577571377200114\n",
      "\n",
      "               precision    recall  f1-score   support\n",
      "\n",
      "     Class 0       0.98      0.69      0.81   1516193\n",
      "     Class 1       0.13      0.77      0.22     86643\n",
      "\n",
      "    accuracy                           0.70   1602836\n",
      "   macro avg       0.55      0.73      0.51   1602836\n",
      "weighted avg       0.94      0.70      0.78   1602836\n",
      "\n"
     ]
    }
   ],
   "source": [
    "from sklearn.ensemble import AdaBoostClassifier\n",
    "\n",
    "model = AdaBoostClassifier(n_estimators=100, random_state=0)\n",
    "Ada_model = model.fit(X_train_enn, y_train_enn)\n",
    "\n",
    "y_pred = Ada_model.predict(X_test)\n",
    "y_pred_probs = Ada_model.predict_proba(X_test)[:,1]\n",
    "\n",
    "# confusion matrix\n",
    "cm = (confusion_matrix(y_test, y_pred))\n",
    "\n",
    "# Visualize confusion matrix\n",
    "sns.heatmap(cm, annot = True, fmt = 'd',cmap = 'Reds')\n",
    "plt.title('Confusion matrix')\n",
    "plt.ylabel('True labels')\n",
    "plt.xlabel('Predicted labels')\n",
    "ticks = np.arange(2) #ticks : 클래스의 수 (이진분류라 2개)\n",
    "plt.xticks(ticks, ticks) \n",
    "plt.yticks(ticks, ticks)\n",
    "plt.show()\n",
    "\n",
    "print('\\n', accuracy_score(y_test, y_pred))\n",
    "print('\\n', f1_score(y_test, y_pred))\n",
    "print('\\n', classification_report(y_test, y_pred, target_names=['Class 0', 'Class 1']))"
   ]
  }
 ],
 "metadata": {
  "kernelspec": {
   "display_name": "Python 3 (ipykernel)",
   "language": "python",
   "name": "python3"
  },
  "language_info": {
   "codemirror_mode": {
    "name": "ipython",
    "version": 3
   },
   "file_extension": ".py",
   "mimetype": "text/x-python",
   "name": "python",
   "nbconvert_exporter": "python",
   "pygments_lexer": "ipython3",
   "version": "3.9.7"
  },
  "toc": {
   "base_numbering": 1,
   "nav_menu": {},
   "number_sections": false,
   "sideBar": true,
   "skip_h1_title": false,
   "title_cell": "Table of Contents",
   "title_sidebar": "Contents",
   "toc_cell": false,
   "toc_position": {
    "height": "calc(100% - 180px)",
    "left": "10px",
    "top": "150px",
    "width": "211px"
   },
   "toc_section_display": true,
   "toc_window_display": true
  }
 },
 "nbformat": 4,
 "nbformat_minor": 5
}
